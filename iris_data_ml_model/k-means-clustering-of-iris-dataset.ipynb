{
 "cells": [
  {
   "cell_type": "markdown",
   "metadata": {
    "papermill": {
     "duration": 0.009283,
     "end_time": "2020-08-30T16:00:19.366750",
     "exception": false,
     "start_time": "2020-08-30T16:00:19.357467",
     "status": "completed"
    },
    "tags": []
   },
   "source": [
    "The Iris flower data set or Fisher's Iris data set is a multivariate data set introduced by the British statistician, eugenicist, and biologist Ronald Fisher in his 1936 paper The use of multiple measurements in taxonomic problems as an example of linear discriminant analysis.[[1](https://en.wikipedia.org/wiki/Iris_flower_data_set#:~:text=The%20Iris%20flower%20data%20set,example%20of%20linear%20discriminant%20analysis.)] It is sometimes called Anderson's Iris data set because Edgar Anderson collected the data to quantify the morphologic variation of Iris flowers of three related species.[2] Two of the three species were collected in the Gaspé Peninsula \"all from the same pasture, and picked on the same day and measured at the same time by the same person with the same apparatus\".[3] Fisher's paper was published in the journal, the Annals of Eugenics, creating controversy about the continued use of the Iris dataset for teaching statistical techniques today.\n",
    "\n",
    "The data set consists of 50 samples from each of three species of Iris (Iris setosa, Iris virginica and Iris versicolor). Four features were measured from each sample: the length and the width of the sepals and petals, in centimeters. Based on the combination of these four features, Fisher developed a linear discriminant model to distinguish the species from each other."
   ]
  },
  {
   "attachments": {},
   "cell_type": "markdown",
   "metadata": {
    "papermill": {
     "duration": 0.007463,
     "end_time": "2020-08-30T16:00:19.382402",
     "exception": false,
     "start_time": "2020-08-30T16:00:19.374939",
     "status": "completed"
    },
    "tags": []
   },
   "source": [
    "![https://miro.medium.com/max/2550/0*GVjzZeYrir0R_6-X.png](https://miro.medium.com/max/2550/0*GVjzZeYrir0R_6-X.png)\n",
    "\n",
    "source image:https://miro.medium.com/max/2550/0*GVjzZeYrir0R_6-X.png"
   ]
  },
  {
   "cell_type": "markdown",
   "metadata": {
    "papermill": {
     "duration": 0.009162,
     "end_time": "2020-08-30T16:00:19.399360",
     "exception": false,
     "start_time": "2020-08-30T16:00:19.390198",
     "status": "completed"
    },
    "tags": []
   },
   "source": [
    "This study we try to clustering Iris Dataset used Kmeans\n",
    "\n",
    "[Attribute Information:\n",
    "](https://archive.ics.uci.edu/ml/datasets/iris)\n",
    "1. sepal length in cm\n",
    "2. sepal width in cm\n",
    "3. petal length in cm\n",
    "4. petal width in cm\n",
    "5. class:\n",
    "- Iris Setosa\n",
    "- Iris Versicolour\n",
    "- Iris Virginica"
   ]
  },
  {
   "cell_type": "markdown",
   "metadata": {
    "papermill": {
     "duration": 0.007389,
     "end_time": "2020-08-30T16:00:19.414424",
     "exception": false,
     "start_time": "2020-08-30T16:00:19.407035",
     "status": "completed"
    },
    "tags": []
   },
   "source": [
    "# Import Libraries"
   ]
  },
  {
   "cell_type": "code",
   "execution_count": null,
   "metadata": {
    "_cell_guid": "b1076dfc-b9ad-4769-8c92-a6c4dae69d19",
    "_uuid": "8f2839f25d086af736a60e9eeb907d3b93b6e0e5",
    "execution": {
     "iopub.execute_input": "2020-08-30T16:00:19.437596Z",
     "iopub.status.busy": "2020-08-30T16:00:19.436851Z",
     "iopub.status.idle": "2020-08-30T16:00:20.704106Z",
     "shell.execute_reply": "2020-08-30T16:00:20.703288Z"
    },
    "papermill": {
     "duration": 1.28205,
     "end_time": "2020-08-30T16:00:20.704247",
     "exception": false,
     "start_time": "2020-08-30T16:00:19.422197",
     "status": "completed"
    },
    "tags": []
   },
   "outputs": [],
   "source": [
    "import pandas as pd\n",
    "import numpy as np\n",
    "import matplotlib.pyplot as plt \n",
    "import seaborn as sns # to plot\n",
    "from sklearn.cluster import KMeans \n",
    "from sklearn.metrics import silhouette_score\n",
    "from sklearn.preprocessing import MinMaxScaler"
   ]
  },
  {
   "cell_type": "markdown",
   "metadata": {
    "papermill": {
     "duration": 0.007997,
     "end_time": "2020-08-30T16:00:20.720418",
     "exception": false,
     "start_time": "2020-08-30T16:00:20.712421",
     "status": "completed"
    },
    "tags": []
   },
   "source": [
    "### reading dataset"
   ]
  },
  {
   "cell_type": "code",
   "execution_count": null,
   "metadata": {
    "_cell_guid": "79c7e3d0-c299-4dcb-8224-4455121ee9b0",
    "_uuid": "d629ff2d2480ee46fbb7e2d37f6b5fab8052498a",
    "execution": {
     "iopub.execute_input": "2020-08-30T16:00:20.750499Z",
     "iopub.status.busy": "2020-08-30T16:00:20.749617Z",
     "iopub.status.idle": "2020-08-30T16:00:20.764098Z",
     "shell.execute_reply": "2020-08-30T16:00:20.764728Z"
    },
    "papermill": {
     "duration": 0.036656,
     "end_time": "2020-08-30T16:00:20.764910",
     "exception": false,
     "start_time": "2020-08-30T16:00:20.728254",
     "status": "completed"
    },
    "tags": []
   },
   "outputs": [],
   "source": [
    "iris = pd.read_csv(\"data/IRIS.csv\")\n",
    "x = iris.iloc[:, [0, 1, 2, 3]].values\n",
    "iris.head()"
   ]
  },
  {
   "cell_type": "code",
   "execution_count": null,
   "metadata": {},
   "outputs": [],
   "source": [
    "x"
   ]
  },
  {
   "cell_type": "code",
   "execution_count": null,
   "metadata": {},
   "outputs": [],
   "source": [
    "iris.tail()"
   ]
  },
  {
   "cell_type": "code",
   "execution_count": null,
   "metadata": {},
   "outputs": [],
   "source": [
    "iris[5:22:2] #start: end: step"
   ]
  },
  {
   "cell_type": "code",
   "execution_count": null,
   "metadata": {
    "execution": {
     "iopub.execute_input": "2020-08-30T16:00:20.802461Z",
     "iopub.status.busy": "2020-08-30T16:00:20.793718Z",
     "iopub.status.idle": "2020-08-30T16:00:20.814458Z",
     "shell.execute_reply": "2020-08-30T16:00:20.815260Z"
    },
    "papermill": {
     "duration": 0.042218,
     "end_time": "2020-08-30T16:00:20.815457",
     "exception": false,
     "start_time": "2020-08-30T16:00:20.773239",
     "status": "completed"
    },
    "tags": []
   },
   "outputs": [],
   "source": [
    "iris.info()\n",
    "iris[0:10]"
   ]
  },
  {
   "cell_type": "code",
   "execution_count": null,
   "metadata": {},
   "outputs": [],
   "source": [
    "# access a particular cell with corresponding row and column value\n",
    "# dataframe[\"column_name\"][row_index]\n",
    "iris[\"species\"][120]"
   ]
  },
  {
   "cell_type": "code",
   "execution_count": null,
   "metadata": {
    "execution": {
     "iopub.execute_input": "2020-08-30T16:00:20.856467Z",
     "iopub.status.busy": "2020-08-30T16:00:20.855229Z",
     "iopub.status.idle": "2020-08-30T16:00:20.868107Z",
     "shell.execute_reply": "2020-08-30T16:00:20.867422Z"
    },
    "papermill": {
     "duration": 0.043911,
     "end_time": "2020-08-30T16:00:20.868235",
     "exception": false,
     "start_time": "2020-08-30T16:00:20.824324",
     "status": "completed"
    },
    "tags": []
   },
   "outputs": [],
   "source": [
    "#Frequency distribution of species\"\n",
    "iris_outcome = pd.crosstab(index=iris[\"species\"],  # Make a crosstab\"\n",
    "                              columns=\"count\")      # Name the count column\n",
    "\n",
    "iris_outcome"
   ]
  },
  {
   "cell_type": "code",
   "execution_count": null,
   "metadata": {},
   "outputs": [],
   "source": [
    "# #Frequency distribution of species\"\n",
    "# iris_outcome = pd.crosstab(index=iris[\"sepal_width\"],  # Make a crosstab\"\n",
    "#                               columns=\"count\")      # Name the count column\n",
    "\n",
    "# iris_outcome"
   ]
  },
  {
   "cell_type": "code",
   "execution_count": null,
   "metadata": {},
   "outputs": [],
   "source": [
    "# #Frequency distribution of species\"\n",
    "# iris_outcome = pd.crosstab(index=iris[\"petal_length\"],  # Make a crosstab\"\n",
    "#                               columns=\"count\")      # Name the count column\n",
    "\n",
    "# iris_outcome"
   ]
  },
  {
   "cell_type": "code",
   "execution_count": null,
   "metadata": {},
   "outputs": [],
   "source": [
    "# #Frequency distribution of species\"\n",
    "# iris_outcome = pd.crosstab(index=iris[\"petal_width\"],  # Make a crosstab\"\n",
    "#                               columns=\"count\")      # Name the count column\n",
    "\n",
    "# iris_outcome"
   ]
  },
  {
   "cell_type": "code",
   "execution_count": null,
   "metadata": {},
   "outputs": [],
   "source": [
    "iris_outcome"
   ]
  },
  {
   "cell_type": "code",
   "execution_count": null,
   "metadata": {
    "execution": {
     "iopub.execute_input": "2020-08-30T16:00:20.895372Z",
     "iopub.status.busy": "2020-08-30T16:00:20.894336Z",
     "iopub.status.idle": "2020-08-30T16:00:20.898182Z",
     "shell.execute_reply": "2020-08-30T16:00:20.897425Z"
    },
    "papermill": {
     "duration": 0.021236,
     "end_time": "2020-08-30T16:00:20.898319",
     "exception": false,
     "start_time": "2020-08-30T16:00:20.877083",
     "status": "completed"
    },
    "tags": []
   },
   "outputs": [],
   "source": [
    "# creating three dataframes corresponding to the three flowers from main dataframe iris\n",
    "iris_setosa=iris.loc[iris[\"species\"]==\"Iris-setosa\"]\n",
    "iris_virginica=iris.loc[iris[\"species\"]==\"Iris-virginica\"]\n",
    "iris_versicolor=iris.loc[iris[\"species\"]==\"Iris-versicolor\"]"
   ]
  },
  {
   "cell_type": "code",
   "execution_count": null,
   "metadata": {},
   "outputs": [],
   "source": [
    "iris_setosa"
   ]
  },
  {
   "cell_type": "markdown",
   "metadata": {
    "papermill": {
     "duration": 0.008564,
     "end_time": "2020-08-30T16:00:20.916275",
     "exception": false,
     "start_time": "2020-08-30T16:00:20.907711",
     "status": "completed"
    },
    "tags": []
   },
   "source": [
    "## **Distribution plots**"
   ]
  },
  {
   "cell_type": "markdown",
   "metadata": {
    "papermill": {
     "duration": 0.008835,
     "end_time": "2020-08-30T16:00:20.933866",
     "exception": false,
     "start_time": "2020-08-30T16:00:20.925031",
     "status": "completed"
    },
    "tags": []
   },
   "source": [
    "Plot each flower to a histogram"
   ]
  },
  {
   "cell_type": "code",
   "execution_count": null,
   "metadata": {
    "execution": {
     "iopub.execute_input": "2020-08-30T16:00:20.960123Z",
     "iopub.status.busy": "2020-08-30T16:00:20.959129Z",
     "iopub.status.idle": "2020-08-30T16:00:22.156917Z",
     "shell.execute_reply": "2020-08-30T16:00:22.156239Z"
    },
    "papermill": {
     "duration": 1.214283,
     "end_time": "2020-08-30T16:00:22.157042",
     "exception": false,
     "start_time": "2020-08-30T16:00:20.942759",
     "status": "completed"
    },
    "tags": []
   },
   "outputs": [],
   "source": [
    "sns.FacetGrid(iris,hue=\"species\",height=3).map(sns.histplot,\"petal_length\").add_legend()\n",
    "sns.FacetGrid(iris,hue=\"species\",height=3).map(sns.histplot,\"petal_width\").add_legend()\n",
    "sns.FacetGrid(iris,hue=\"species\",height=3).map(sns.histplot,\"sepal_length\").add_legend()\n",
    "sns.FacetGrid(iris,hue=\"species\",height=3).map(sns.histplot,\"sepal_width\").add_legend()\n",
    "plt.show()"
   ]
  },
  {
   "cell_type": "markdown",
   "metadata": {
    "papermill": {
     "duration": 0.009853,
     "end_time": "2020-08-30T16:00:22.177090",
     "exception": false,
     "start_time": "2020-08-30T16:00:22.167237",
     "status": "completed"
    },
    "tags": []
   },
   "source": [
    "box plot"
   ]
  },
  {
   "cell_type": "code",
   "execution_count": null,
   "metadata": {
    "execution": {
     "iopub.execute_input": "2020-08-30T16:00:22.300808Z",
     "iopub.status.busy": "2020-08-30T16:00:22.300055Z",
     "iopub.status.idle": "2020-08-30T16:00:22.462326Z",
     "shell.execute_reply": "2020-08-30T16:00:22.461657Z"
    },
    "papermill": {
     "duration": 0.275234,
     "end_time": "2020-08-30T16:00:22.462462",
     "exception": false,
     "start_time": "2020-08-30T16:00:22.187228",
     "status": "completed"
    },
    "tags": []
   },
   "outputs": [],
   "source": [
    "sns.boxplot(y=\"petal_length\",data=iris)\n",
    "plt.show()"
   ]
  },
  {
   "cell_type": "markdown",
   "metadata": {},
   "source": [
    "### Blox plot of petal_length"
   ]
  },
  {
   "cell_type": "code",
   "execution_count": null,
   "metadata": {},
   "outputs": [],
   "source": [
    "sns.boxplot(x=\"species\",y=\"petal_length\",data=iris)\n",
    "plt.show()"
   ]
  },
  {
   "cell_type": "markdown",
   "metadata": {},
   "source": [
    "### Blox plot of petal_width"
   ]
  },
  {
   "cell_type": "code",
   "execution_count": null,
   "metadata": {},
   "outputs": [],
   "source": [
    "sns.boxplot(x=\"species\",y=\"petal_width\",data=iris)\n",
    "plt.show()"
   ]
  },
  {
   "cell_type": "markdown",
   "metadata": {},
   "source": [
    "### Blox plot of sepal_width"
   ]
  },
  {
   "cell_type": "code",
   "execution_count": null,
   "metadata": {},
   "outputs": [],
   "source": [
    "sns.boxplot(x=\"species\",y=\"sepal_width\",data=iris)\n",
    "plt.show()"
   ]
  },
  {
   "cell_type": "markdown",
   "metadata": {},
   "source": [
    "### Blox plot of sepal_length"
   ]
  },
  {
   "cell_type": "code",
   "execution_count": null,
   "metadata": {},
   "outputs": [],
   "source": [
    "sns.boxplot(x=\"species\",y=\"sepal_length\",data=iris)\n",
    "plt.show()"
   ]
  },
  {
   "cell_type": "code",
   "execution_count": null,
   "metadata": {},
   "outputs": [],
   "source": [
    "sns.boxplot(x=\"species\",y=\"sepal_length\",data=iris)\n",
    "plt.show()\n",
    "sns.boxplot(x=\"species\",y=\"sepal_width\",data=iris)\n",
    "plt.show()\n",
    "sns.boxplot(x=\"species\",y=\"petal_length\",data=iris)\n",
    "plt.show()\n",
    "sns.boxplot(x=\"species\",y=\"petal_width\",data=iris)\n",
    "plt.show()"
   ]
  },
  {
   "cell_type": "markdown",
   "metadata": {
    "papermill": {
     "duration": 0.010161,
     "end_time": "2020-08-30T16:00:22.710862",
     "exception": false,
     "start_time": "2020-08-30T16:00:22.700701",
     "status": "completed"
    },
    "tags": []
   },
   "source": [
    "**Scatter plot**\n"
   ]
  },
  {
   "cell_type": "code",
   "execution_count": null,
   "metadata": {
    "execution": {
     "iopub.execute_input": "2020-08-30T16:00:22.740403Z",
     "iopub.status.busy": "2020-08-30T16:00:22.739325Z",
     "iopub.status.idle": "2020-08-30T16:00:30.309889Z",
     "shell.execute_reply": "2020-08-30T16:00:30.310483Z"
    },
    "papermill": {
     "duration": 7.589246,
     "end_time": "2020-08-30T16:00:30.310651",
     "exception": false,
     "start_time": "2020-08-30T16:00:22.721405",
     "status": "completed"
    },
    "tags": []
   },
   "outputs": [],
   "source": [
    "sns.set_style(\"whitegrid\")\n",
    "sns.pairplot(iris,hue=\"species\",height=3);\n",
    "plt.show()"
   ]
  },
  {
   "cell_type": "markdown",
   "metadata": {
    "papermill": {
     "duration": 0.011981,
     "end_time": "2020-08-30T16:00:30.335004",
     "exception": false,
     "start_time": "2020-08-30T16:00:30.323023",
     "status": "completed"
    },
    "tags": []
   },
   "source": [
    "# K-Means"
   ]
  },
  {
   "cell_type": "markdown",
   "metadata": {
    "papermill": {
     "duration": 0.011736,
     "end_time": "2020-08-30T16:00:30.358843",
     "exception": false,
     "start_time": "2020-08-30T16:00:30.347107",
     "status": "completed"
    },
    "tags": []
   },
   "source": [
    "[K-means](http://https://www.analyticsvidhya.com/blog/2019/08/comprehensive-guide-k-means-clustering/) is a centroid-based algorithm, or a distance-based algorithm, where we calculate the distances to assign a point to a cluster. In K-Means, each cluster is associated with a centroid."
   ]
  },
  {
   "cell_type": "markdown",
   "metadata": {
    "papermill": {
     "duration": 0.012068,
     "end_time": "2020-08-30T16:00:30.382983",
     "exception": false,
     "start_time": "2020-08-30T16:00:30.370915",
     "status": "completed"
    },
    "tags": []
   },
   "source": [
    "# How to Implementing K-Means Clustering ?\n",
    "\n",
    "* Choose the number of clusters k\n",
    "* Select k random points from the data as centroids\n",
    "* Assign all the points to the closest cluster centroid\n",
    "* Recompute the centroids of newly formed clusters\n",
    "* Repeat steps 3 and 4\n"
   ]
  },
  {
   "cell_type": "code",
   "execution_count": null,
   "metadata": {
    "execution": {
     "iopub.execute_input": "2020-08-30T16:00:30.416111Z",
     "iopub.status.busy": "2020-08-30T16:00:30.414986Z",
     "iopub.status.idle": "2020-08-30T16:00:30.908445Z",
     "shell.execute_reply": "2020-08-30T16:00:30.907613Z"
    },
    "papermill": {
     "duration": 0.513639,
     "end_time": "2020-08-30T16:00:30.908576",
     "exception": false,
     "start_time": "2020-08-30T16:00:30.394937",
     "status": "completed"
    },
    "tags": []
   },
   "outputs": [],
   "source": [
    "#Finding the optimum number of clusters for k-means classification\n",
    "from sklearn.cluster import KMeans\n",
    "wcss = []\n",
    "\n",
    "for i in range(1, 11):\n",
    "    kmeans = KMeans(n_clusters = i, init = 'k-means++', max_iter = 300, n_init = 10, random_state = 0)\n",
    "    kmeans.fit(x)\n",
    "    wcss.append(kmeans.inertia_)"
   ]
  },
  {
   "cell_type": "markdown",
   "metadata": {
    "papermill": {
     "duration": 0.011904,
     "end_time": "2020-08-30T16:00:30.932631",
     "exception": false,
     "start_time": "2020-08-30T16:00:30.920727",
     "status": "completed"
    },
    "tags": []
   },
   "source": [
    "# Using the elbow method to determine the optimal number of clusters for k-means clustering\n"
   ]
  },
  {
   "cell_type": "code",
   "execution_count": null,
   "metadata": {
    "execution": {
     "iopub.execute_input": "2020-08-30T16:00:30.974130Z",
     "iopub.status.busy": "2020-08-30T16:00:30.973012Z",
     "iopub.status.idle": "2020-08-30T16:00:31.265436Z",
     "shell.execute_reply": "2020-08-30T16:00:31.264759Z"
    },
    "papermill": {
     "duration": 0.320899,
     "end_time": "2020-08-30T16:00:31.265559",
     "exception": false,
     "start_time": "2020-08-30T16:00:30.944660",
     "status": "completed"
    },
    "tags": []
   },
   "outputs": [],
   "source": [
    "plt.plot(range(1, 11), wcss)\n",
    "plt.title('The elbow method')\n",
    "plt.xlabel('Number of clusters')\n",
    "plt.ylabel('WCSS') #within cluster sum of squares\n",
    "plt.show()"
   ]
  },
  {
   "cell_type": "markdown",
   "metadata": {
    "papermill": {
     "duration": 0.012562,
     "end_time": "2020-08-30T16:00:31.290670",
     "exception": false,
     "start_time": "2020-08-30T16:00:31.278108",
     "status": "completed"
    },
    "tags": []
   },
   "source": [
    "# Implementing K-Means Clustering"
   ]
  },
  {
   "cell_type": "code",
   "execution_count": null,
   "metadata": {
    "execution": {
     "iopub.execute_input": "2020-08-30T16:00:31.326513Z",
     "iopub.status.busy": "2020-08-30T16:00:31.322164Z",
     "iopub.status.idle": "2020-08-30T16:00:31.356730Z",
     "shell.execute_reply": "2020-08-30T16:00:31.355993Z"
    },
    "papermill": {
     "duration": 0.053588,
     "end_time": "2020-08-30T16:00:31.356875",
     "exception": false,
     "start_time": "2020-08-30T16:00:31.303287",
     "status": "completed"
    },
    "tags": []
   },
   "outputs": [],
   "source": [
    "kmeans = KMeans(n_clusters = 3, init = 'k-means++', max_iter = 300, n_init = 10, random_state = 0)\n",
    "y_kmeans = kmeans.fit_predict(x)"
   ]
  },
  {
   "cell_type": "code",
   "execution_count": null,
   "metadata": {
    "execution": {
     "iopub.execute_input": "2020-08-30T16:00:31.401740Z",
     "iopub.status.busy": "2020-08-30T16:00:31.393887Z",
     "iopub.status.idle": "2020-08-30T16:00:31.771838Z",
     "shell.execute_reply": "2020-08-30T16:00:31.771223Z"
    },
    "papermill": {
     "duration": 0.402552,
     "end_time": "2020-08-30T16:00:31.771981",
     "exception": false,
     "start_time": "2020-08-30T16:00:31.369429",
     "status": "completed"
    },
    "tags": []
   },
   "outputs": [],
   "source": [
    "#Visualising the clusters\n",
    "plt.scatter(x[y_kmeans == 0, 0], x[y_kmeans == 0, 1], s = 100, c = 'purple', label = 'Iris-setosa')\n",
    "plt.scatter(x[y_kmeans == 1, 0], x[y_kmeans == 1, 1], s = 100, c = 'orange', label = 'Iris-versicolour')\n",
    "plt.scatter(x[y_kmeans == 2, 0], x[y_kmeans == 2, 1], s = 100, c = 'green', label = 'Iris-virginica')\n",
    "\n",
    "#Plotting the centroids of the clusters\n",
    "plt.scatter(kmeans.cluster_centers_[:, 0], kmeans.cluster_centers_[:,1], s = 100, c = 'red', label = 'Centroids')\n",
    "\n",
    "plt.legend()"
   ]
  },
  {
   "cell_type": "code",
   "execution_count": null,
   "metadata": {
    "execution": {
     "iopub.execute_input": "2020-08-30T16:00:31.819727Z",
     "iopub.status.busy": "2020-08-30T16:00:31.818956Z",
     "iopub.status.idle": "2020-08-30T16:00:32.050652Z",
     "shell.execute_reply": "2020-08-30T16:00:32.050039Z"
    },
    "papermill": {
     "duration": 0.265708,
     "end_time": "2020-08-30T16:00:32.050785",
     "exception": false,
     "start_time": "2020-08-30T16:00:31.785077",
     "status": "completed"
    },
    "tags": []
   },
   "outputs": [],
   "source": [
    "# 3d scatterplot using matplotlib\n",
    "\n",
    "fig = plt.figure(figsize = (15,15))\n",
    "ax = fig.add_subplot(111, projection='3d')\n",
    "plt.scatter(x[y_kmeans == 0, 0], x[y_kmeans == 0, 1], s = 100, c = 'purple', label = 'Iris-setosa')\n",
    "plt.scatter(x[y_kmeans == 1, 0], x[y_kmeans == 1, 1], s = 100, c = 'orange', label = 'Iris-versicolour')\n",
    "plt.scatter(x[y_kmeans == 2, 0], x[y_kmeans == 2, 1], s = 100, c = 'green', label = 'Iris-virginica')\n",
    "\n",
    "#Plotting the centroids of the clusters\n",
    "plt.scatter(kmeans.cluster_centers_[:, 0], kmeans.cluster_centers_[:,1], s = 100, c = 'red', label = 'Centroids')\n",
    "plt.show()"
   ]
  },
  {
   "cell_type": "code",
   "execution_count": null,
   "metadata": {},
   "outputs": [],
   "source": []
  }
 ],
 "metadata": {
  "kernelspec": {
   "display_name": "Python 3",
   "language": "python",
   "name": "python3"
  },
  "language_info": {
   "codemirror_mode": {
    "name": "ipython",
    "version": 3
   },
   "file_extension": ".py",
   "mimetype": "text/x-python",
   "name": "python",
   "nbconvert_exporter": "python",
   "pygments_lexer": "ipython3",
   "version": "3.8.11"
  },
  "papermill": {
   "duration": 17.31099,
   "end_time": "2020-08-30T16:00:32.174557",
   "environment_variables": {},
   "exception": null,
   "input_path": "__notebook__.ipynb",
   "output_path": "__notebook__.ipynb",
   "parameters": {},
   "start_time": "2020-08-30T16:00:14.863567",
   "version": "2.1.0"
  }
 },
 "nbformat": 4,
 "nbformat_minor": 4
}
