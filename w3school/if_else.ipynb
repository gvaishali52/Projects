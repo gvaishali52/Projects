{
 "cells": [
  {
   "cell_type": "markdown",
   "metadata": {},
   "source": [
    "Take n as input from user which is an integer.\n",
    "Write a program to print the following when the required conditioned is met:\n",
    "- print 'Sumit' if n is between 0 and 10\n",
    "- print 'Vaishali' if n is between 11 and 20\n",
    "- print 'Saurabh' if n is between 21 and 30"
   ]
  },
  {
   "cell_type": "code",
   "execution_count": 9,
   "metadata": {},
   "outputs": [],
   "source": [
    "# n= int(input())\n",
    "def ifelse1(n):\n",
    "    if n>=0 and n<=10:\n",
    "        print(\"Sumit\")\n",
    "\n",
    "    elif n>=11 and n<=20:\n",
    "        print(\"Vaishali\")\n",
    "\n",
    "    elif n>=21 and n<=30:\n",
    "        print(\"Saurabh\")\n",
    "\n",
    "    else:\n",
    "        print(\"no name\") \n",
    "        \n",
    "    return 0\n"
   ]
  },
  {
   "cell_type": "code",
   "execution_count": 10,
   "metadata": {},
   "outputs": [
    {
     "name": "stdout",
     "output_type": "stream",
     "text": [
      "Saurabh\n"
     ]
    },
    {
     "data": {
      "text/plain": [
       "0"
      ]
     },
     "execution_count": 10,
     "metadata": {},
     "output_type": "execute_result"
    }
   ],
   "source": [
    "n=25\n",
    "ifelse1(n)"
   ]
  },
  {
   "cell_type": "code",
   "execution_count": 11,
   "metadata": {},
   "outputs": [],
   "source": [
    "def ifelse2(n):\n",
    "    if n>=0 and n<=10:\n",
    "        name='Sumit'\n",
    "\n",
    "    elif n>=11 and n<=20:\n",
    "        name=\"Vaishali\"\n",
    "\n",
    "    elif n>=21 and n<=30:\n",
    "        name=\"Saurabh\"\n",
    "\n",
    "    else:\n",
    "        name=\"noname\"\n",
    "        \n",
    "    return name\n"
   ]
  },
  {
   "cell_type": "code",
   "execution_count": 12,
   "metadata": {},
   "outputs": [
    {
     "data": {
      "text/plain": [
       "'Saurabh'"
      ]
     },
     "execution_count": 12,
     "metadata": {},
     "output_type": "execute_result"
    }
   ],
   "source": [
    "n=25\n",
    "ifelse2(n)"
   ]
  },
  {
   "cell_type": "code",
   "execution_count": null,
   "metadata": {},
   "outputs": [],
   "source": []
  }
 ],
 "metadata": {
  "interpreter": {
   "hash": "c626c7f027fd81c21c9d33e27e9da6944415f92c80192dd5d04cdc4b243efcd0"
  },
  "kernelspec": {
   "display_name": "Python 3.8.5 ('vaishali')",
   "language": "python",
   "name": "python3"
  },
  "language_info": {
   "codemirror_mode": {
    "name": "ipython",
    "version": 3
   },
   "file_extension": ".py",
   "mimetype": "text/x-python",
   "name": "python",
   "nbconvert_exporter": "python",
   "pygments_lexer": "ipython3",
   "version": "3.8.5"
  },
  "orig_nbformat": 4
 },
 "nbformat": 4,
 "nbformat_minor": 2
}
