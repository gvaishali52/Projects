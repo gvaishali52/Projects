{
 "cells": [
  {
   "cell_type": "markdown",
   "metadata": {},
   "source": [
    "\n",
    "# **Classes/Objects**\n",
    "\n",
    "Python is an object oriented programming language.\n",
    "Almost everything in Python is an object, with its properties and methods.\n",
    "A Class is like an object constructor, or a \"blueprint\" for creating objects.\n",
    "\n",
    "## Create a Class\n",
    "To create a class, use the **keyword** class:"
   ]
  },
  {
   "cell_type": "code",
   "execution_count": 4,
   "metadata": {},
   "outputs": [],
   "source": [
    "#Create a class named MyClass, with a property named x:\n",
    "\n",
    "class MyClass:\n",
    "  x = 5"
   ]
  },
  {
   "cell_type": "markdown",
   "metadata": {},
   "source": [
    "\n",
    "## Create Object\n",
    "Now we can use the class named MyClass to create objects:\n"
   ]
  },
  {
   "cell_type": "code",
   "execution_count": 3,
   "metadata": {},
   "outputs": [
    {
     "ename": "NameError",
     "evalue": "name 'MyClass' is not defined",
     "output_type": "error",
     "traceback": [
      "\u001b[1;31m---------------------------------------------------------------------------\u001b[0m",
      "\u001b[1;31mNameError\u001b[0m                                 Traceback (most recent call last)",
      "\u001b[1;32mc:\\Users\\sgupt\\OneDrive\\Pictures\\Documents\\GitHub\\Projects\\w3school\\object_class.ipynb Cell 4'\u001b[0m in \u001b[0;36m<cell line: 3>\u001b[1;34m()\u001b[0m\n\u001b[0;32m      <a href='vscode-notebook-cell:/c%3A/Users/sgupt/OneDrive/Pictures/Documents/GitHub/Projects/w3school/object_class.ipynb#ch0000000?line=0'>1</a>\u001b[0m \u001b[39m# Create an object named p1, and print the value of x:\u001b[39;00m\n\u001b[1;32m----> <a href='vscode-notebook-cell:/c%3A/Users/sgupt/OneDrive/Pictures/Documents/GitHub/Projects/w3school/object_class.ipynb#ch0000000?line=2'>3</a>\u001b[0m p1 \u001b[39m=\u001b[39m MyClass()\n\u001b[0;32m      <a href='vscode-notebook-cell:/c%3A/Users/sgupt/OneDrive/Pictures/Documents/GitHub/Projects/w3school/object_class.ipynb#ch0000000?line=3'>4</a>\u001b[0m \u001b[39mprint\u001b[39m(p1\u001b[39m.\u001b[39mx)\n",
      "\u001b[1;31mNameError\u001b[0m: name 'MyClass' is not defined"
     ]
    }
   ],
   "source": [
    "# Create an object named p1, and print the value of x:\n",
    "\n",
    "p1 = MyClass()\n",
    "print(p1.x)\n"
   ]
  },
  {
   "cell_type": "code",
   "execution_count": null,
   "metadata": {},
   "outputs": [],
   "source": []
  }
 ],
 "metadata": {
  "interpreter": {
   "hash": "c626c7f027fd81c21c9d33e27e9da6944415f92c80192dd5d04cdc4b243efcd0"
  },
  "kernelspec": {
   "display_name": "Python 3.8.5 ('vaishali')",
   "language": "python",
   "name": "python3"
  },
  "language_info": {
   "codemirror_mode": {
    "name": "ipython",
    "version": 3
   },
   "file_extension": ".py",
   "mimetype": "text/x-python",
   "name": "python",
   "nbconvert_exporter": "python",
   "pygments_lexer": "ipython3",
   "version": "3.8.5"
  },
  "orig_nbformat": 4
 },
 "nbformat": 4,
 "nbformat_minor": 2
}
