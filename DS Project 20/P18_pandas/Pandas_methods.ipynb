{
 "cells": [
  {
   "cell_type": "code",
   "execution_count": 2,
   "metadata": {},
   "outputs": [],
   "source": [
    "# linear algebra\n",
    "import numpy as np \n",
    "\n",
    "import random as rn\n",
    "\n",
    "# data processing, CSV file I/O (e.g. pd.read_csv)\n",
    "import pandas as pd "
   ]
  },
  {
   "cell_type": "markdown",
   "metadata": {},
   "source": [
    "Input data files are available in the read-only \"../input/\" directory\n",
    "For example, \n",
    "running this (by clicking run or pressing Shift+Enter) will list all files under the input directory.\n",
    "\n",
    "\n",
    "\n",
    "\n",
    "\n",
    "The **OS module** in Python provides-\n",
    "- functions for creating and \n",
    "- removing a directory (folder), \n",
    "- fetching its contents, \n",
    "- changing and identifying the current directory, etc"
   ]
  },
  {
   "cell_type": "code",
   "execution_count": 3,
   "metadata": {},
   "outputs": [
    {
     "name": "stdout",
     "output_type": "stream",
     "text": [
      "./input\\60k-stack-overflow-questions-with-quality-rate\\train.csv\n",
      "./input\\60k-stack-overflow-questions-with-quality-rate\\valid.csv\n",
      "./input\\datasets-for-pandas\\abc.csv\n",
      "./input\\datasets-for-pandas\\abc2.csv\n",
      "./input\\datasets-for-pandas\\data1.csv\n",
      "./input\\datasets-for-pandas\\score.csv\n",
      "./input\\datasets-for-pandas\\uk-500.csv\n",
      "./input\\rj-sample-datasets\\sample-transaction.csv\n",
      "./input\\rj-sample-datasets\\sample.db\n",
      "./input\\rj-sample-datasets\\Students Score - Sheet1.csv\n",
      "./input\\rj-sample-datasets\\transaction-1.csv\n",
      "./input\\rj-sample-datasets\\transaction-2.csv\n"
     ]
    }
   ],
   "source": [
    "import os\n",
    "for dirname, _, filenames in os.walk('./input'):# here /input is file name\n",
    "    for filename in filenames:\n",
    "        print(os.path.join(dirname, filename))"
   ]
  },
  {
   "cell_type": "code",
   "execution_count": 4,
   "metadata": {},
   "outputs": [],
   "source": [
    "import warnings\n",
    "warnings.filterwarnings('ignore')\n",
    "\n",
    "\n",
    "import functools"
   ]
  },
  {
   "cell_type": "markdown",
   "metadata": {},
   "source": [
    "Functools module is for higher-order functions that work on other functions. It provides functions for working with other functions and callable objects to use or extend them without completely rewriting them. "
   ]
  },
  {
   "cell_type": "markdown",
   "metadata": {},
   "source": [
    "\n",
    "<a id=\"top\"></a>\n",
    "\n",
    "<div class=\"list-group\" id=\"list-tab\" role=\"tablist\">\n",
    "\n",
    "<font color=\"teal\" size=+1><b>Content List</b></font>\n",
    "    \n",
    "* [1. Check Pandas Version](#1)\n",
    "* [2. Create Numpy Array: Create three columns with Zero values](#2)\n",
    "* [3. iLoc in Pandas : Print first five rows](#3)\n",
    "* [4. Create Random integer between 2 to 10 with 4 items](#4)\n",
    "* [5. Create Random integer between 0 to 100](#5)\n",
    "* [6. Create Random integer between 2 to 10 with 4 columns](#6)\n",
    "* [7. 2D array with random between 0 and 5](#7)\n",
    "* [8. Create Random integer between 0 to 100 with 10 itmes (2 rows, 5 columns)](#8)\n",
    "* [9. 3 rows, 2 columns in pandas](#9)\n",
    "* [10. Fill Random Science and Math Marks](#10)\n",
    "* [11. CSV to DatRaframe (from_csv)](#11)\n",
    "* [12. CSV to Dataframe (from_csv)](#12)\n",
    "* [13. First 4 rows and 2 columns of CSV](#13)\n",
    "* [14. Show even rows and first three columns](#14)\n",
    "* [15. New columns as sum of all](#15)\n",
    "* [16. Delete Rows of one column where the value is less than 50](#16)\n",
    "* [17. Delete with Query](#17)\n",
    "* [18. Skip single row](#18)\n",
    "* [19. Skip multiple rows](#19)\n",
    "* [20. Select Column by Index](#20)\n",
    "* [21. Skip rows](#21)\n",
    "* [22. String to Dataframe](#22)\n",
    "* [23. New columns as max of other columns](#23)\n",
    "* [24. New columns as max of other columns](#24)\n",
    "* [25. New columns as max of other columns](#25)\n",
    "* [26. Fill with average](#26)\n",
    "* [27. New columns as sum of all](#27)\n",
    "* [28. Unicode issue and fix](#28)\n",
    "* [29. Fill with average](#29)\n",
    "* [30. Last 4 rows](#30)\n",
    "* [31. Expanding Apply](#31)\n",
    "* [32. Get 3 and 4th row](#32)\n",
    "* [33. Last 4th to 1st](#33)\n",
    "* [34. iloc position slice](#34)\n",
    "* [35. Loc - iloc - ix - at - iat](#35)\n",
    "* [36. Random data](#36)\n",
    "* [37. Filter with the value comparison](#37)\n",
    "* [38. Filter between 5 and 10 on col 1](#38)\n",
    "* [39. Filter between 15 to 20](#39)\n",
    "* [40. Filter between 15 to 33](#40)\n",
    "* [41. Custom method and xrnage on dataframe](#41)\n",
    "* [42. Set index with date column](#42)\n",
    "* [43. Change columns based on other columns](#43)\n",
    "* [44. Change multiple columns based on one column values](#44)\n",
    "* [45. Pandas Mask](#45)\n",
    "* [46. Check high or low comparing the column against 5](#46)\n",
    "* [47. Student Marks (Pass or Fail)](#47)\n",
    "* [48. Get passed grades](#48)\n",
    "* [49. Students passed in Language and Math](#49)\n",
    "* [50. Students passed in Language and Science](#50)\n",
    "* [51. Loc with Label oriented slicing](#51)\n",
    "* [52. iloc with positional slicing](#52)\n",
    "* [53. Label between numbers](#53)\n",
    "* [54. Stars with names](#54)\n",
    "* [55. Row label selection Age is above 25 and movies above 25](#55)\n",
    "* [56. Stars in in certain ages](#56)\n",
    "* [57. Inverse opeartor !( above one.45 and below two.50 )](#57)\n",
    "* [58. Apply custom function](#58)\n",
    "* [59. Group by single column](#59)\n",
    "* [60. Creating new Columns using Applymap Sides & applymap](#60)\n",
    "* [61. Replacing some values with mean of the rest of a group](#61)\n",
    "* [62. Students passed in Language or Science (any one subject)](#62)\n",
    "* [63. possible errors: TypeError: 'Series' objects are mutable, thus they cannot be hashed](#63)\n",
    "* [64. argsort Select rows with data closest to certain value using argsort](#64)\n",
    "* [65. argsort with stars](#65)\n",
    "* [66. Argsort with actors - young stars (near by 17)](#66)\n",
    "* [67. Binary operators - Stars with - younger than 19 - very young](#67)\n",
    "* [68. Young, Higher Salary, and Higher Position](#68)\n",
    "* [69. Rename columns](#69)\n",
    "* [70. Add a new column](#70)\n",
    "* [71. Drop a column](#71)\n",
    "* [72. Drop multiple columns](#72)\n",
    "* [73. Drop first and last column](#73)\n",
    "* [74. Delete by pop function](#74)\n",
    "* [75. DataFrame.from_items](#75)\n",
    "* [76. Pandas to list](#76)\n",
    "* [77. Pandas rows to list](#77)\n",
    "* [78. Pandas rows to array](#78)\n",
    "* [79. Pandas rows to map](#79)\n",
    "* [80. Pandas rows to map](#80)\n",
    "* [81. Drop duplicates](#81)\n",
    "* [82. Selecting multiple columns](#82)\n",
    "* [83. Selecting multiple columns](#83)\n",
    "* [84. Row and Column Slicing](#84)\n",
    "* [85. Iterating rows](#85)\n",
    "* [86. Iterating tuples](#86)\n",
    "* [87. Iterating rows and columns](#87)\n",
    "* [88. List of Dictionary to Dataframe](#88)\n",
    "* [89. Is Null](#89)\n",
    "* [90. Sum of all nan](#90)\n",
    "* [91. Sum of all nan rowwise](#91)\n",
    "* [92. Sum of all nan as list](#92)\n",
    "* [93. Change the order of columns](#93)\n",
    "* [94. Drop multiple rows](#94)\n",
    "* [95. Drop multiple rows by row name](#95)\n",
    "* [96. Get group](#96)\n",
    "* [97. Get the the odd row](#97)\n",
    "* [98. Get the even columns](#98)\n",
    "* [99. Odd rows and even columns](#99)\n",
    "* [100. Drop duplicates](#100)\n",
    "* [101. Drop all duplicates](#101)\n",
    "* [102. Basic group by](#102)\n",
    "* [103. Missing Data: Make A'th 3rd coulmn Nan](#103)\n",
    "* [104. Reindex](#104)   \n",
    "* [105. Column reset Nan](#105)  \n",
    "* [105. XY](#105)  \n",
    "* [106. XY](#106)  \n",
    "* [107. Match with isin function](#107)  \n",
    "* [108. Finding specific items by using `isin` function](#108)  \n",
    "* [109. Exclude specific matching](#109)  \n",
    "* [110. Apply a custom function on multiple columns](#110)  \n",
    "* [111. iterrows as tuples](#111)  \n",
    "* [112. Dataframe with NaN](#112)  \n",
    "* [113. Simple Dataframe with NaN](#113)  \n",
    "* [114. Pandas and Date with Range](#114)  \n",
    "* [115. Pandas and Numpy Repeat](#115)  \n",
    "* [116. read_sql in Pandas](#116)  \n",
    "* [117. Get a single value by iat](#117)  \n",
    "* [118. Get last n elements](#118)  \n",
    "* [119. Add data one by one by using loc function](#119)  \n",
    "* [120. Convert country in Dataframe](#120)  \n",
    "* [121. Group by multiple columns](#121)  \n",
    "* [122. Compare two dataframes](#122)  \n",
    "* [123. Difference between datetime by only seconds or dates](#123)  \n",
    "* [124. Get dates and delta days in Dataframe](#124)  \n",
    "* [125. Get dates and delta days in Dataframe](#125)  \n",
    "* [126. Date addition with time delta](#126)  \n",
    "* [127. Converting Pandas innner list to numpy array without the word `list`](#127)  \n",
    "* [128. Append series to existing Dataframe](#128)  \n",
    "* [129. Cumulative sum with group by with multiple values](#129)  \n",
    "* [130. Clean URL in Pandas String (remove string after specific item)](#130)  \n",
    "* [131. Find any matching value](#131)      "
   ]
  },
  {
   "cell_type": "markdown",
   "metadata": {},
   "source": [
    "<div style=\"\">\n",
    "    <div style=\"float: left; width: 80%;\">\n",
    "        <a id=\"1\"></a>\n",
    "        <font><b>Task 1:</b></font>\n",
    "        <br><br>\n",
    "        Check Pandas Version\n",
    "    </div>\n",
    "    <div style=\"float: right;\">\n",
    "        <a href=\"#top\" class=\"btn btn-primary btn-sm\" role=\"button\" aria-pressed=\"true\" style=\"color:white\" data-toggle=\"popover\" title=\"go to Top\">Go to Top</a>\n",
    "    </div>\n",
    "    <br style=\"clear: left;\" />\n",
    "</div>"
   ]
  },
  {
   "cell_type": "code",
   "execution_count": 5,
   "metadata": {},
   "outputs": [
    {
     "name": "stdout",
     "output_type": "stream",
     "text": [
      "Task 1:\n",
      "1.4.2\n"
     ]
    }
   ],
   "source": [
    "print('Task 1:')\n",
    "print(pd.__version__) "
   ]
  },
  {
   "cell_type": "markdown",
   "metadata": {},
   "source": [
    "<div style=\"\">\n",
    "    <div style=\"float: left; width: 80%;\">\n",
    "        <a id=\"2\"></a>\n",
    "        <font><b>Task 2:</b></font>\n",
    "        <br><br>\n",
    "        Create Numpy Array\n",
    "        <br>\n",
    "        Create three columns with Zero values\n",
    "    </div>\n",
    "    <div style=\"float: right;\">\n",
    "        <a href=\"#top\" class=\"btn btn-primary btn-sm\" role=\"button\" aria-pressed=\"true\" style=\"color:white\" data-toggle=\"popover\" title=\"go to Top\">Go to Top</a>\n",
    "    </div>\n",
    "    <br style=\"clear: left;\" />\n",
    "</div>"
   ]
  },
  {
   "cell_type": "code",
   "execution_count": 7,
   "metadata": {},
   "outputs": [
    {
     "data": {
      "text/plain": [
       "array([(0, 0., 0.), (0, 0., 0.), (0, 0., 0.), (0, 0., 0.), (0, 0., 0.),\n",
       "       (0, 0., 0.), (0, 0., 0.), (0, 0., 0.), (0, 0., 0.), (0, 0., 0.),\n",
       "       (0, 0., 0.), (0, 0., 0.), (0, 0., 0.), (0, 0., 0.), (0, 0., 0.),\n",
       "       (0, 0., 0.), (0, 0., 0.), (0, 0., 0.), (0, 0., 0.), (0, 0., 0.)],\n",
       "      dtype=[('col1', '<i4'), ('col2', '<f4'), ('col3', '<f4')])"
      ]
     },
     "execution_count": 7,
     "metadata": {},
     "output_type": "execute_result"
    }
   ],
   "source": [
    "dtype=[('col1','int32'), \n",
    "       ('col2','float32'),\n",
    "       ('col3','float32')]\n",
    "\n",
    "values=np.zeros(20, dtype=dtype)\n",
    "values"
   ]
  },
  {
   "cell_type": "code",
   "execution_count": 8,
   "metadata": {},
   "outputs": [
    {
     "data": {
      "text/plain": [
       "20"
      ]
     },
     "execution_count": 8,
     "metadata": {},
     "output_type": "execute_result"
    }
   ],
   "source": [
    "len(values)"
   ]
  },
  {
   "cell_type": "code",
   "execution_count": 16,
   "metadata": {},
   "outputs": [
    {
     "name": "stdout",
     "output_type": "stream",
     "text": [
      "['Row1', 'Row2', 'Row3', 'Row4', 'Row5', 'Row6', 'Row7', 'Row8', 'Row9', 'Row10', 'Row11', 'Row12', 'Row13', 'Row14', 'Row15', 'Row16', 'Row17', 'Row18', 'Row19', 'Row20']\n"
     ]
    }
   ],
   "source": [
    "index = ['Row'+str(i) for i in range(1, len(values)+1)]\n",
    "print(index)\n"
   ]
  },
  {
   "cell_type": "code",
   "execution_count": 17,
   "metadata": {},
   "outputs": [
    {
     "data": {
      "text/plain": [
       "<bound method NDFrame.head of        col1  col2  col3\n",
       "Row1      0   0.0   0.0\n",
       "Row2      0   0.0   0.0\n",
       "Row3      0   0.0   0.0\n",
       "Row4      0   0.0   0.0\n",
       "Row5      0   0.0   0.0\n",
       "Row6      0   0.0   0.0\n",
       "Row7      0   0.0   0.0\n",
       "Row8      0   0.0   0.0\n",
       "Row9      0   0.0   0.0\n",
       "Row10     0   0.0   0.0\n",
       "Row11     0   0.0   0.0\n",
       "Row12     0   0.0   0.0\n",
       "Row13     0   0.0   0.0\n",
       "Row14     0   0.0   0.0\n",
       "Row15     0   0.0   0.0\n",
       "Row16     0   0.0   0.0\n",
       "Row17     0   0.0   0.0\n",
       "Row18     0   0.0   0.0\n",
       "Row19     0   0.0   0.0\n",
       "Row20     0   0.0   0.0>"
      ]
     },
     "execution_count": 17,
     "metadata": {},
     "output_type": "execute_result"
    }
   ],
   "source": [
    "df = pd.DataFrame(values, index=index)\n",
    "df.head"
   ]
  },
  {
   "cell_type": "code",
   "execution_count": 18,
   "metadata": {},
   "outputs": [
    {
     "data": {
      "text/html": [
       "<div>\n",
       "<style scoped>\n",
       "    .dataframe tbody tr th:only-of-type {\n",
       "        vertical-align: middle;\n",
       "    }\n",
       "\n",
       "    .dataframe tbody tr th {\n",
       "        vertical-align: top;\n",
       "    }\n",
       "\n",
       "    .dataframe thead th {\n",
       "        text-align: right;\n",
       "    }\n",
       "</style>\n",
       "<table border=\"1\" class=\"dataframe\">\n",
       "  <thead>\n",
       "    <tr style=\"text-align: right;\">\n",
       "      <th></th>\n",
       "      <th>col1</th>\n",
       "      <th>col2</th>\n",
       "      <th>col3</th>\n",
       "    </tr>\n",
       "  </thead>\n",
       "  <tbody>\n",
       "    <tr>\n",
       "      <th>15</th>\n",
       "      <td>0</td>\n",
       "      <td>0.0</td>\n",
       "      <td>0.0</td>\n",
       "    </tr>\n",
       "    <tr>\n",
       "      <th>16</th>\n",
       "      <td>0</td>\n",
       "      <td>0.0</td>\n",
       "      <td>0.0</td>\n",
       "    </tr>\n",
       "    <tr>\n",
       "      <th>17</th>\n",
       "      <td>0</td>\n",
       "      <td>0.0</td>\n",
       "      <td>0.0</td>\n",
       "    </tr>\n",
       "    <tr>\n",
       "      <th>18</th>\n",
       "      <td>0</td>\n",
       "      <td>0.0</td>\n",
       "      <td>0.0</td>\n",
       "    </tr>\n",
       "    <tr>\n",
       "      <th>19</th>\n",
       "      <td>0</td>\n",
       "      <td>0.0</td>\n",
       "      <td>0.0</td>\n",
       "    </tr>\n",
       "  </tbody>\n",
       "</table>\n",
       "</div>"
      ],
      "text/plain": [
       "    col1  col2  col3\n",
       "15     0   0.0   0.0\n",
       "16     0   0.0   0.0\n",
       "17     0   0.0   0.0\n",
       "18     0   0.0   0.0\n",
       "19     0   0.0   0.0"
      ]
     },
     "execution_count": 18,
     "metadata": {},
     "output_type": "execute_result"
    }
   ],
   "source": [
    "df = pd.DataFrame(values)\n",
    "df.tail()"
   ]
  },
  {
   "cell_type": "code",
   "execution_count": 19,
   "metadata": {},
   "outputs": [
    {
     "data": {
      "text/html": [
       "<div>\n",
       "<style scoped>\n",
       "    .dataframe tbody tr th:only-of-type {\n",
       "        vertical-align: middle;\n",
       "    }\n",
       "\n",
       "    .dataframe tbody tr th {\n",
       "        vertical-align: top;\n",
       "    }\n",
       "\n",
       "    .dataframe thead th {\n",
       "        text-align: right;\n",
       "    }\n",
       "</style>\n",
       "<table border=\"1\" class=\"dataframe\">\n",
       "  <thead>\n",
       "    <tr style=\"text-align: right;\">\n",
       "      <th></th>\n",
       "      <th>col1</th>\n",
       "      <th>col2</th>\n",
       "      <th>col3</th>\n",
       "    </tr>\n",
       "  </thead>\n",
       "  <tbody>\n",
       "    <tr>\n",
       "      <th>0</th>\n",
       "      <td>0</td>\n",
       "      <td>0.0</td>\n",
       "      <td>0.0</td>\n",
       "    </tr>\n",
       "    <tr>\n",
       "      <th>1</th>\n",
       "      <td>0</td>\n",
       "      <td>0.0</td>\n",
       "      <td>0.0</td>\n",
       "    </tr>\n",
       "    <tr>\n",
       "      <th>2</th>\n",
       "      <td>0</td>\n",
       "      <td>0.0</td>\n",
       "      <td>0.0</td>\n",
       "    </tr>\n",
       "    <tr>\n",
       "      <th>3</th>\n",
       "      <td>0</td>\n",
       "      <td>0.0</td>\n",
       "      <td>0.0</td>\n",
       "    </tr>\n",
       "    <tr>\n",
       "      <th>4</th>\n",
       "      <td>0</td>\n",
       "      <td>0.0</td>\n",
       "      <td>0.0</td>\n",
       "    </tr>\n",
       "  </tbody>\n",
       "</table>\n",
       "</div>"
      ],
      "text/plain": [
       "   col1  col2  col3\n",
       "0     0   0.0   0.0\n",
       "1     0   0.0   0.0\n",
       "2     0   0.0   0.0\n",
       "3     0   0.0   0.0\n",
       "4     0   0.0   0.0"
      ]
     },
     "execution_count": 19,
     "metadata": {},
     "output_type": "execute_result"
    }
   ],
   "source": [
    "df = pd.DataFrame(values)\n",
    "df.head()"
   ]
  },
  {
   "cell_type": "markdown",
   "metadata": {},
   "source": [
    "<div style=\"\">\n",
    "    <div style=\"float: left; width: 80%;\">\n",
    "        <a id=\"3\"></a>\n",
    "        <font><b>Task 3:</b></font>\n",
    "        <br><br>\n",
    "        iLoc in Pandas\n",
    "        <br>\n",
    "        Print first five rows\n",
    "    </div>\n",
    "    <div style=\"float: right;\">\n",
    "        <a href=\"#top\" class=\"btn btn-primary btn-sm\" role=\"button\" aria-pressed=\"true\" style=\"color:white\" data-toggle=\"popover\" title=\"go to Top\">Go to Top</a>\n",
    "    </div>\n",
    "    <br style=\"clear: left;\" />\n",
    "</div>"
   ]
  },
  {
   "cell_type": "code",
   "execution_count": 21,
   "metadata": {},
   "outputs": [
    {
     "name": "stdout",
     "output_type": "stream",
     "text": [
      "Task 3:\n",
      "                       0\n",
      "0  capacity,score,length\n",
      "1                1,10,30\n",
      "2                2,20,30\n",
      "3                3,30,40\n",
      "4                3,40,30\n"
     ]
    }
   ],
   "source": [
    "print('Task 3:')\n",
    "df = pd.read_csv('./input/datasets-for-pandas/data1.csv', sep=';', header=None)\n",
    "print(df.iloc[:5]) # 0 - 4 = 5 values"
   ]
  },
  {
   "cell_type": "markdown",
   "metadata": {},
   "source": [
    "<div style=\"\">\n",
    "    <div style=\"float: left; width: 80%;\">\n",
    "        <a id=\"4\"></a>\n",
    "        <font><b>Task 4:</b></font>\n",
    "        <br><br>\n",
    "        \n",
    "    </div>\n",
    "    <div style=\"float: right;\">\n",
    "        <a href=\"#top\" class=\"btn btn-primary btn-sm\" role=\"button\" aria-pressed=\"true\" style=\"color:white\" data-toggle=\"popover\" title=\"go to Top\">Go to Top</a>\n",
    "    </div>\n",
    "    <br style=\"clear: left;\" />\n",
    "</div>"
   ]
  },
  {
   "cell_type": "code",
   "execution_count": null,
   "metadata": {},
   "outputs": [],
   "source": []
  }
 ],
 "metadata": {
  "kernelspec": {
   "display_name": "Python 3.8.5 ('vaishali')",
   "language": "python",
   "name": "python3"
  },
  "language_info": {
   "codemirror_mode": {
    "name": "ipython",
    "version": 3
   },
   "file_extension": ".py",
   "mimetype": "text/x-python",
   "name": "python",
   "nbconvert_exporter": "python",
   "pygments_lexer": "ipython3",
   "version": "3.8.5"
  },
  "orig_nbformat": 4,
  "vscode": {
   "interpreter": {
    "hash": "c626c7f027fd81c21c9d33e27e9da6944415f92c80192dd5d04cdc4b243efcd0"
   }
  }
 },
 "nbformat": 4,
 "nbformat_minor": 2
}
